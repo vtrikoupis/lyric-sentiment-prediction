{
 "metadata": {
  "language_info": {
   "codemirror_mode": {
    "name": "ipython",
    "version": 3
   },
   "file_extension": ".py",
   "mimetype": "text/x-python",
   "name": "python",
   "nbconvert_exporter": "python",
   "pygments_lexer": "ipython3",
   "version": "3.7.9-final"
  },
  "orig_nbformat": 2,
  "kernelspec": {
   "name": "python3",
   "display_name": "Python 3.7.9 64-bit",
   "metadata": {
    "interpreter": {
     "hash": "7a3d88c904243d2c3f246166597f86d1c0a39f3d97496d1fe394945d0c6d436d"
    }
   }
  }
 },
 "nbformat": 4,
 "nbformat_minor": 2,
 "cells": [
  {
   "cell_type": "code",
   "execution_count": null,
   "metadata": {},
   "outputs": [],
   "source": [
    "# !pip install spotipy\n",
    "# !pip install requests\n",
    "# !pip install nltk\n"
   ]
  },
  {
   "cell_type": "code",
   "execution_count": 48,
   "metadata": {},
   "outputs": [],
   "source": [
    "import re\n",
    "import os\n",
    "import spotipy\n",
    "import requests\n",
    "from spotipy.oauth2 import SpotifyClientCredentials\n",
    "from bs4 import BeautifulSoup\n",
    "import pandas as pd\n",
    "from dotenv import load_dotenv"
   ]
  },
  {
   "cell_type": "code",
   "execution_count": 49,
   "metadata": {},
   "outputs": [
    {
     "output_type": "execute_result",
     "data": {
      "text/plain": [
       "True"
      ]
     },
     "metadata": {},
     "execution_count": 49
    }
   ],
   "source": [
    "load_dotenv()"
   ]
  },
  {
   "cell_type": "code",
   "execution_count": 50,
   "metadata": {},
   "outputs": [
    {
     "output_type": "stream",
     "name": "stdout",
     "text": [
      "patata\n"
     ]
    }
   ],
   "source": [
    "print()"
   ]
  },
  {
   "cell_type": "code",
   "execution_count": 27,
   "metadata": {},
   "outputs": [],
   "source": [
    "class GetLyrics():\n",
    "    \n",
    "    def __init__(self, spotify_client_id, spotify_client_secret, user_id, playlist_id, genius_key):\n",
    "        self.spotify_client_id = os.getenv('SPOTIFY_CLIENT_ID')\n",
    "        self.spotify_client_secret = os.getenv('SPOTIFY_CLIENT_ID')\n",
    "        self.user_id = os.getenv('SPOTIFY_USER_ID')\n",
    "        self.playlist_id = '5qU5rlfMhe9zfDLJgwemZk'\n",
    "        self.genius_key = os.getenv('GENIUS_KEY') #we plugin personal spotfiy and genius credentials and playlist id\n",
    "        \n",
    "    def get_playlist_info(self):\n",
    "        token = SpotifyClientCredentials(client_id=self.spotify_client_id,\n",
    "                                         client_secret=self.spotify_client_secret).get_access_token()\n",
    "        sp = spotipy.Spotify(token)\n",
    "        playlist = sp.user_playlist_tracks(self.user_id, self.playlist_id)\n",
    "        self.playlist = playlist\n",
    "        return self.playlist\n",
    "    \n",
    "    def get_track_names(self):\n",
    "        track_names = []\n",
    "        for song in range(len(self.playlist['items'])):\n",
    "            track_names.append(self.playlist['items'][song]['track']['name'])\n",
    "        self.track_names = track_names\n",
    "        return self.track_names\n",
    "    \n",
    "    def get_track_artists(self):\n",
    "        track_artists = []\n",
    "        for song in range(len(self.playlist['items'])):\n",
    "            track_artists.append(self.playlist['items'][song]['track']['artists'][0]['name'])\n",
    "        self.track_artists = track_artists\n",
    "        return self.track_artists\n",
    "        \n",
    "    def request_song_info(self, track_name, track_artist):\n",
    "        self.track_name = track_name\n",
    "        self.track_artist = track_artist\n",
    "        base_url = 'https://api.genius.com'\n",
    "        headers = {'Authorization': 'Bearer ' + self.genius_key}\n",
    "        search_url = base_url + '/search'\n",
    "        data = {'q': track_name + ' ' + track_artist}\n",
    "        response = requests.get(search_url, data=data, headers=headers)\n",
    "        self.response = response\n",
    "        return self.response\n",
    "\n",
    "    def check_hits(self):\n",
    "        json = self.response.json()\n",
    "        remote_song_info = None\n",
    "        for hit in json['response']['hits']:\n",
    "            if self.track_artist.lower() in hit['result']['primary_artist']['name'].lower():\n",
    "                remote_song_info = hit\n",
    "                break\n",
    "        self.remote_song_info = remote_song_info\n",
    "        return self.remote_song_info\n",
    "    \n",
    "    def get_url(self):\n",
    "        song_url = self.remote_song_info['result']['url']\n",
    "        self.song_url = song_url\n",
    "        return self.song_url\n",
    "    \n",
    "    def scrape_lyrics(self):\n",
    "        page = requests.get(self.song_url)\n",
    "        html = BeautifulSoup(page.text, 'html.parser')\n",
    "        lyrics1 = html.find(\"div\", class_=\"lyrics\")\n",
    "        lyrics2 = html.find(\"div\", class_=\"Lyrics__Container-sc-1ynbvzw-2 jgQsqn\")\n",
    "        if lyrics1:\n",
    "            lyrics = lyrics1.get_text()\n",
    "        elif lyrics2:\n",
    "            lyrics = lyrics2.get_text()\n",
    "        elif lyrics1 == lyrics2 == None:\n",
    "            lyrics = None\n",
    "        return lyrics\n",
    "\n",
    "    def get_lyrics(self):\n",
    "        playlist = GetLyrics.get_playlist_info(self)\n",
    "        track_names = GetLyrics.get_track_names(self)\n",
    "        track_artists = GetLyrics.get_track_artists(self)\n",
    "        song_lyrics = []\n",
    "        for i in range(len(self.track_names)):\n",
    "            print(\"\\n\")\n",
    "            print(f\"Working on track {i}.\")\n",
    "            response = GetLyrics.request_song_info(self, self.track_names[i], self.track_artists[i])\n",
    "            remote_song_info = GetLyrics.check_hits(self)\n",
    "            if remote_song_info == None:\n",
    "                lyrics = None\n",
    "                print(f\"Track {i} is not in the Genius database.\")\n",
    "            else:\n",
    "                url = GetLyrics.get_url(self)\n",
    "                lyrics = GetLyrics.scrape_lyrics(self)\n",
    "                if lyrics == None:\n",
    "                    print(f\"Track {i} is not in the Genius database.\")\n",
    "                else:\n",
    "                    print(f\"Retrieved track {i} lyrics!\")\n",
    "            song_lyrics.append(lyrics)\n",
    "        return song_lyrics"
   ]
  },
  {
   "cell_type": "code",
   "execution_count": 28,
   "metadata": {},
   "outputs": [
    {
     "output_type": "stream",
     "name": "stdout",
     "text": [
      "\n",
      "\n",
      "Working on track 0.\n",
      "Retrieved track 0 lyrics!\n",
      "\n",
      "\n",
      "Working on track 1.\n",
      "Retrieved track 1 lyrics!\n",
      "\n",
      "\n",
      "Working on track 2.\n",
      "Retrieved track 2 lyrics!\n",
      "\n",
      "\n",
      "Working on track 3.\n",
      "Retrieved track 3 lyrics!\n",
      "\n",
      "\n",
      "Working on track 4.\n",
      "Retrieved track 4 lyrics!\n",
      "\n",
      "\n",
      "Working on track 5.\n",
      "Retrieved track 5 lyrics!\n",
      "\n",
      "\n",
      "Working on track 6.\n",
      "Retrieved track 6 lyrics!\n",
      "\n",
      "\n",
      "Working on track 7.\n",
      "Track 7 is not in the Genius database.\n",
      "\n",
      "\n",
      "Working on track 8.\n",
      "Track 8 is not in the Genius database.\n",
      "\n",
      "\n",
      "Working on track 9.\n",
      "Track 9 is not in the Genius database.\n",
      "\n",
      "\n",
      "Working on track 10.\n",
      "Retrieved track 10 lyrics!\n",
      "\n",
      "\n",
      "Working on track 11.\n",
      "Retrieved track 11 lyrics!\n",
      "\n",
      "\n",
      "Working on track 12.\n",
      "Track 12 is not in the Genius database.\n",
      "\n",
      "\n",
      "Working on track 13.\n",
      "Retrieved track 13 lyrics!\n",
      "\n",
      "\n",
      "Working on track 14.\n",
      "Retrieved track 14 lyrics!\n",
      "\n",
      "\n",
      "Working on track 15.\n",
      "Track 15 is not in the Genius database.\n",
      "\n",
      "\n",
      "Working on track 16.\n",
      "Retrieved track 16 lyrics!\n",
      "\n",
      "\n",
      "Working on track 17.\n",
      "Track 17 is not in the Genius database.\n",
      "\n",
      "\n",
      "Working on track 18.\n",
      "Retrieved track 18 lyrics!\n",
      "\n",
      "\n",
      "Working on track 19.\n",
      "Retrieved track 19 lyrics!\n",
      "\n",
      "\n",
      "Working on track 20.\n",
      "Retrieved track 20 lyrics!\n",
      "\n",
      "\n",
      "Working on track 21.\n",
      "Retrieved track 21 lyrics!\n",
      "\n",
      "\n",
      "Working on track 22.\n",
      "Retrieved track 22 lyrics!\n",
      "\n",
      "\n",
      "Working on track 23.\n",
      "Retrieved track 23 lyrics!\n",
      "\n",
      "\n",
      "Working on track 24.\n",
      "Retrieved track 24 lyrics!\n",
      "\n",
      "\n",
      "Working on track 25.\n",
      "Retrieved track 25 lyrics!\n",
      "\n",
      "\n",
      "Working on track 26.\n",
      "Retrieved track 26 lyrics!\n",
      "\n",
      "\n",
      "Working on track 27.\n",
      "Track 27 is not in the Genius database.\n",
      "\n",
      "\n",
      "Working on track 28.\n",
      "Retrieved track 28 lyrics!\n",
      "\n",
      "\n",
      "Working on track 29.\n",
      "Retrieved track 29 lyrics!\n",
      "\n",
      "\n",
      "Working on track 30.\n",
      "Retrieved track 30 lyrics!\n",
      "\n",
      "\n",
      "Working on track 31.\n",
      "Retrieved track 31 lyrics!\n",
      "\n",
      "\n",
      "Working on track 32.\n",
      "Retrieved track 32 lyrics!\n",
      "\n",
      "\n",
      "Working on track 33.\n",
      "Retrieved track 33 lyrics!\n",
      "\n",
      "\n",
      "Working on track 34.\n",
      "Retrieved track 34 lyrics!\n",
      "\n",
      "\n",
      "Working on track 35.\n",
      "Retrieved track 35 lyrics!\n",
      "\n",
      "\n",
      "Working on track 36.\n",
      "Retrieved track 36 lyrics!\n",
      "\n",
      "\n",
      "Working on track 37.\n",
      "Track 37 is not in the Genius database.\n",
      "\n",
      "\n",
      "Working on track 38.\n",
      "Retrieved track 38 lyrics!\n"
     ]
    }
   ],
   "source": [
    "songs = GetLyrics(os.getenv('SPOTIFY_CLIENT_ID'), os.getenv('SPOTIFY_CLIENT_SECRET'), os.getenv('SPOTIFY_USER_ID'), '5qU5rlfMhe9zfDLJgwemZk', os.getenv('GENIUS_KEY'))\n",
    "song_lyrics = songs.get_lyrics() #this will get this the song lyrics using again credentials "
   ]
  },
  {
   "cell_type": "code",
   "execution_count": 31,
   "metadata": {},
   "outputs": [],
   "source": [
    "df = pd.DataFrame()\n",
    "df['track_name'] = songs.track_names\n",
    "df['artist'] = songs.track_artists\n",
    "df['lyrics'] = song_lyrics "
   ]
  },
  {
   "cell_type": "code",
   "execution_count": 33,
   "metadata": {},
   "outputs": [],
   "source": [
    "df = df.dropna()\n",
    "df = df.loc[df['lyrics'] != \"[Non-Lyrical Vocals]\"]\n",
    "df = df.loc[df['lyrics'] != '']"
   ]
  },
  {
   "cell_type": "code",
   "execution_count": 34,
   "metadata": {},
   "outputs": [],
   "source": [
    "df.reset_index(drop=True, inplace=True) #reset the index"
   ]
  },
  {
   "cell_type": "code",
   "execution_count": 35,
   "metadata": {},
   "outputs": [],
   "source": [
    "song_lyrics = df['lyrics']"
   ]
  },
  {
   "cell_type": "code",
   "execution_count": 38,
   "metadata": {},
   "outputs": [],
   "source": [
    "for i in range(len(song_lyrics)):\n",
    "    song_lyrics[i] = re.sub(\"[\\(\\[].*?[\\)\\]]\", \" \", str(song_lyrics[i]))\n",
    "    song_lyrics[i] = song_lyrics[i].replace(\"\\n\", \" \")\n",
    "    song_lyrics[i] = re.sub(r\"(\\w)([A-Z])\", r\"\\1 \\2\", str(song_lyrics[i]))  #we iterate through the rows to delete punctuationan and other unnesary sympols"
   ]
  },
  {
   "cell_type": "code",
   "execution_count": 39,
   "metadata": {},
   "outputs": [
    {
     "output_type": "execute_result",
     "data": {
      "text/plain": [
       "                                      track_name              artist  \\\n",
       "0                                        AMERIKA           Rammstein   \n",
       "1                                       Dream On           Aerosmith   \n",
       "2                                  Enter Sandman           Metallica   \n",
       "3                                  Spanish Train      Chris de Burgh   \n",
       "4                             Whiskey In The Jar           Metallica   \n",
       "5                                       Iron Man       Black Sabbath   \n",
       "6                           Nothing Else Matters           Metallica   \n",
       "7                                       Paranoid       Black Sabbath   \n",
       "8                                   Sad But True           Metallica   \n",
       "9                        Smells Like Teen Spirit             Nirvana   \n",
       "10                                   Crazy Train       Ozzy Osbourne   \n",
       "11                                 Thunderstruck               AC/DC   \n",
       "12                               Highway to Hell               AC/DC   \n",
       "13                                        T.N.T.               AC/DC   \n",
       "14                               Shoot to Thrill               AC/DC   \n",
       "15                                 Are You Ready               AC/DC   \n",
       "16                     I Was Made For Lovin' You                KISS   \n",
       "17                                 Walk This Way           Aerosmith   \n",
       "18                                   Black Betty             Ram Jam   \n",
       "19                             Seven Nation Army   The White Stripes   \n",
       "20                                 Back In Black               AC/DC   \n",
       "21                                   Hells Bells               AC/DC   \n",
       "22                               Paint It, Black  The Rolling Stones   \n",
       "23                                 Ace of Spades           Motörhead   \n",
       "24                                   Mr. Crowley       Ozzy Osbourne   \n",
       "25         The Show Must Go On - Remastered 2011               Queen   \n",
       "26  Another One Bites The Dust - Remastered 2011               Queen   \n",
       "27                                       Changes       Black Sabbath   \n",
       "28                              Back In The Game           Airbourne   \n",
       "29     Nothin' But A Good Time - Remastered 2006              Poison   \n",
       "30                                    Head Games           Foreigner   \n",
       "\n",
       "                                               lyrics  \n",
       "0          We're all living in Amerika Amerika ist...  \n",
       "1    Every time​ that I look in the mirror All the...  \n",
       "2     Say your prayers, little one, don't forget, ...  \n",
       "3       There's a Spanish train that runs between ...  \n",
       "4    As I was going over the Cork and Kerry mounta...  \n",
       "5    I am Iron Man Has he lost his mind?Can he see...  \n",
       "6          So close no matter how far Couldn't be ...  \n",
       "7     Finished with my woman 'cause she couldn't h...  \n",
       "8    Hey  , I'm your life, I'm the one who takes y...  \n",
       "9       Load up on guns, bring your friends It's f...  \n",
       "10      All aboard! Hahahahahahaaaa! Ay      Crazy...  \n",
       "11      Thunder, ah Thunder, ah Thunder, ah Thunde...  \n",
       "12    Living easy, living free Season ticket on a ...  \n",
       "13      Oi! Oi! Oi! Oi! Oi! Oi! Oi! Oi! Oi! Oi! Oi...  \n",
       "14      All you women who want a man of the street...  \n",
       "15    Are you ready? Are you ready? Are you ready?...  \n",
       "16      Mmmm, yeah, ha Do, do, do, do, do, do, do,...  \n",
       "17         Backstroking lover, always hiding 'neat...  \n",
       "18         Whoa, Black Betty   Whoa, Black Betty  ...  \n",
       "19      I'm gonna fight 'em off A seven nation arm...  \n",
       "20      Back in black, I hit the sack I've been to...  \n",
       "21    I'm a rolling thunder, pouring rain I'm comi...  \n",
       "22   I see a red door and I want it painted black ...  \n",
       "23   If you like to gamble, I tell you I'm your ma...  \n",
       "24   Mr. Crowley, what went on in your head?Oh, Mr...  \n",
       "25   Empty spaces, what are we living for?Abandone...  \n",
       "26      Ooh, let's go!    Steve walks warily down ...  \n",
       "27      I feel unhappy, I feel so sad I've lost th...  \n",
       "28  Let's play It's been a hard road but I'm almos...  \n",
       "29  On a cold night in a hotel in New Orleans Came...  \n",
       "30   Daylight, alright I don't know, I don't know ...  "
      ],
      "text/html": "<div>\n<style scoped>\n    .dataframe tbody tr th:only-of-type {\n        vertical-align: middle;\n    }\n\n    .dataframe tbody tr th {\n        vertical-align: top;\n    }\n\n    .dataframe thead th {\n        text-align: right;\n    }\n</style>\n<table border=\"1\" class=\"dataframe\">\n  <thead>\n    <tr style=\"text-align: right;\">\n      <th></th>\n      <th>track_name</th>\n      <th>artist</th>\n      <th>lyrics</th>\n    </tr>\n  </thead>\n  <tbody>\n    <tr>\n      <th>0</th>\n      <td>AMERIKA</td>\n      <td>Rammstein</td>\n      <td>We're all living in Amerika Amerika ist...</td>\n    </tr>\n    <tr>\n      <th>1</th>\n      <td>Dream On</td>\n      <td>Aerosmith</td>\n      <td>Every time​ that I look in the mirror All the...</td>\n    </tr>\n    <tr>\n      <th>2</th>\n      <td>Enter Sandman</td>\n      <td>Metallica</td>\n      <td>Say your prayers, little one, don't forget, ...</td>\n    </tr>\n    <tr>\n      <th>3</th>\n      <td>Spanish Train</td>\n      <td>Chris de Burgh</td>\n      <td>There's a Spanish train that runs between ...</td>\n    </tr>\n    <tr>\n      <th>4</th>\n      <td>Whiskey In The Jar</td>\n      <td>Metallica</td>\n      <td>As I was going over the Cork and Kerry mounta...</td>\n    </tr>\n    <tr>\n      <th>5</th>\n      <td>Iron Man</td>\n      <td>Black Sabbath</td>\n      <td>I am Iron Man Has he lost his mind?Can he see...</td>\n    </tr>\n    <tr>\n      <th>6</th>\n      <td>Nothing Else Matters</td>\n      <td>Metallica</td>\n      <td>So close no matter how far Couldn't be ...</td>\n    </tr>\n    <tr>\n      <th>7</th>\n      <td>Paranoid</td>\n      <td>Black Sabbath</td>\n      <td>Finished with my woman 'cause she couldn't h...</td>\n    </tr>\n    <tr>\n      <th>8</th>\n      <td>Sad But True</td>\n      <td>Metallica</td>\n      <td>Hey  , I'm your life, I'm the one who takes y...</td>\n    </tr>\n    <tr>\n      <th>9</th>\n      <td>Smells Like Teen Spirit</td>\n      <td>Nirvana</td>\n      <td>Load up on guns, bring your friends It's f...</td>\n    </tr>\n    <tr>\n      <th>10</th>\n      <td>Crazy Train</td>\n      <td>Ozzy Osbourne</td>\n      <td>All aboard! Hahahahahahaaaa! Ay      Crazy...</td>\n    </tr>\n    <tr>\n      <th>11</th>\n      <td>Thunderstruck</td>\n      <td>AC/DC</td>\n      <td>Thunder, ah Thunder, ah Thunder, ah Thunde...</td>\n    </tr>\n    <tr>\n      <th>12</th>\n      <td>Highway to Hell</td>\n      <td>AC/DC</td>\n      <td>Living easy, living free Season ticket on a ...</td>\n    </tr>\n    <tr>\n      <th>13</th>\n      <td>T.N.T.</td>\n      <td>AC/DC</td>\n      <td>Oi! Oi! Oi! Oi! Oi! Oi! Oi! Oi! Oi! Oi! Oi...</td>\n    </tr>\n    <tr>\n      <th>14</th>\n      <td>Shoot to Thrill</td>\n      <td>AC/DC</td>\n      <td>All you women who want a man of the street...</td>\n    </tr>\n    <tr>\n      <th>15</th>\n      <td>Are You Ready</td>\n      <td>AC/DC</td>\n      <td>Are you ready? Are you ready? Are you ready?...</td>\n    </tr>\n    <tr>\n      <th>16</th>\n      <td>I Was Made For Lovin' You</td>\n      <td>KISS</td>\n      <td>Mmmm, yeah, ha Do, do, do, do, do, do, do,...</td>\n    </tr>\n    <tr>\n      <th>17</th>\n      <td>Walk This Way</td>\n      <td>Aerosmith</td>\n      <td>Backstroking lover, always hiding 'neat...</td>\n    </tr>\n    <tr>\n      <th>18</th>\n      <td>Black Betty</td>\n      <td>Ram Jam</td>\n      <td>Whoa, Black Betty   Whoa, Black Betty  ...</td>\n    </tr>\n    <tr>\n      <th>19</th>\n      <td>Seven Nation Army</td>\n      <td>The White Stripes</td>\n      <td>I'm gonna fight 'em off A seven nation arm...</td>\n    </tr>\n    <tr>\n      <th>20</th>\n      <td>Back In Black</td>\n      <td>AC/DC</td>\n      <td>Back in black, I hit the sack I've been to...</td>\n    </tr>\n    <tr>\n      <th>21</th>\n      <td>Hells Bells</td>\n      <td>AC/DC</td>\n      <td>I'm a rolling thunder, pouring rain I'm comi...</td>\n    </tr>\n    <tr>\n      <th>22</th>\n      <td>Paint It, Black</td>\n      <td>The Rolling Stones</td>\n      <td>I see a red door and I want it painted black ...</td>\n    </tr>\n    <tr>\n      <th>23</th>\n      <td>Ace of Spades</td>\n      <td>Motörhead</td>\n      <td>If you like to gamble, I tell you I'm your ma...</td>\n    </tr>\n    <tr>\n      <th>24</th>\n      <td>Mr. Crowley</td>\n      <td>Ozzy Osbourne</td>\n      <td>Mr. Crowley, what went on in your head?Oh, Mr...</td>\n    </tr>\n    <tr>\n      <th>25</th>\n      <td>The Show Must Go On - Remastered 2011</td>\n      <td>Queen</td>\n      <td>Empty spaces, what are we living for?Abandone...</td>\n    </tr>\n    <tr>\n      <th>26</th>\n      <td>Another One Bites The Dust - Remastered 2011</td>\n      <td>Queen</td>\n      <td>Ooh, let's go!    Steve walks warily down ...</td>\n    </tr>\n    <tr>\n      <th>27</th>\n      <td>Changes</td>\n      <td>Black Sabbath</td>\n      <td>I feel unhappy, I feel so sad I've lost th...</td>\n    </tr>\n    <tr>\n      <th>28</th>\n      <td>Back In The Game</td>\n      <td>Airbourne</td>\n      <td>Let's play It's been a hard road but I'm almos...</td>\n    </tr>\n    <tr>\n      <th>29</th>\n      <td>Nothin' But A Good Time - Remastered 2006</td>\n      <td>Poison</td>\n      <td>On a cold night in a hotel in New Orleans Came...</td>\n    </tr>\n    <tr>\n      <th>30</th>\n      <td>Head Games</td>\n      <td>Foreigner</td>\n      <td>Daylight, alright I don't know, I don't know ...</td>\n    </tr>\n  </tbody>\n</table>\n</div>"
     },
     "metadata": {},
     "execution_count": 39
    }
   ],
   "source": [
    "df"
   ]
  },
  {
   "cell_type": "code",
   "execution_count": 41,
   "metadata": {},
   "outputs": [
    {
     "output_type": "stream",
     "name": "stderr",
     "text": [
      "[nltk_data] Downloading package vader_lexicon to\n[nltk_data]     /Users/vangelistrikoupis/nltk_data...\n[nltk_data]   Package vader_lexicon is already up-to-date!\n"
     ]
    }
   ],
   "source": [
    "import nltk\n",
    "from nltk.sentiment.vader import SentimentIntensityAnalyzer\n",
    "\n",
    "nltk.download('vader_lexicon')\n",
    "sid = SentimentIntensityAnalyzer()"
   ]
  },
  {
   "cell_type": "code",
   "execution_count": 42,
   "metadata": {},
   "outputs": [],
   "source": [
    "for i in range(len(df)):\n",
    "    sentiment = sid.polarity_scores(df.loc[i, 'lyrics'])   #we get the polarity score for each row/song and thus iterate\n",
    "    df.loc[i, 'neg'] = sentiment['neg']\n",
    "    df.loc[i, 'neu'] = sentiment['neu']\n",
    "    df.loc[i, 'pos'] = sentiment['pos']\n",
    "    df.loc[i, 'compound'] = sentiment['compound']"
   ]
  },
  {
   "cell_type": "code",
   "execution_count": null,
   "metadata": {},
   "outputs": [],
   "source": []
  }
 ]
}